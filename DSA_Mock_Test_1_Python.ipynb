{
  "nbformat": 4,
  "nbformat_minor": 0,
  "metadata": {
    "colab": {
      "provenance": []
    },
    "kernelspec": {
      "name": "python3",
      "display_name": "Python 3"
    },
    "language_info": {
      "name": "python"
    }
  },
  "cells": [
    {
      "cell_type": "markdown",
      "source": [
        "1. Move Zeroes\n",
        "\n",
        "Given an integer array nums, move all 0's to the end of it while maintaining the relative order of the non-zero elements.\n",
        "\n",
        "Note that you must do this in-place without making a copy of the array.\n",
        "\n",
        "Example 1:\n",
        "\n",
        "Input: nums = [0,1,0,3,12]\n",
        "\n",
        "Output: [1,3,12,0,0]\n",
        "\n",
        "Example 2:\n",
        "\n",
        "Input: nums = [0]\n",
        "\n",
        "Output: [0]\n",
        "\n",
        "Constraints:\n",
        "\n",
        "a. 1 <= nums.length <= 10^4\n",
        "\n",
        "b. -2^31 <= nums[i] <= 2^31 - 1 "
      ],
      "metadata": {
        "id": "Avt1FsVKN58L"
      }
    },
    {
      "cell_type": "code",
      "source": [
        "def moveZeroes(nums):\n",
        "    i = j = 0\n",
        "\n",
        "    # Move non-zero elements to the beginning\n",
        "    while i < len(nums):\n",
        "        if nums[i] != 0:\n",
        "            nums[i], nums[j] = nums[j], nums[i]\n",
        "            j += 1\n",
        "        i += 1\n",
        "\n",
        "    # Set remaining elements to zero\n",
        "    while j < len(nums):\n",
        "        nums[j] = 0\n",
        "        j += 1\n",
        "\n",
        "    return nums"
      ],
      "metadata": {
        "id": "B9Z9BZx2N6mq"
      },
      "execution_count": 1,
      "outputs": []
    },
    {
      "cell_type": "code",
      "source": [
        "#Example 1:\n",
        "nums = [0, 1, 0, 3, 12]\n",
        "print(moveZeroes(nums))"
      ],
      "metadata": {
        "colab": {
          "base_uri": "https://localhost:8080/"
        },
        "id": "tqLg-iK4OMXU",
        "outputId": "08f6fe13-aaee-4e7d-e3cd-0814ef550022"
      },
      "execution_count": 2,
      "outputs": [
        {
          "output_type": "stream",
          "name": "stdout",
          "text": [
            "[1, 3, 12, 0, 0]\n"
          ]
        }
      ]
    },
    {
      "cell_type": "code",
      "source": [
        "#Example 2:\n",
        "nums = [0]\n",
        "print(moveZeroes(nums))"
      ],
      "metadata": {
        "colab": {
          "base_uri": "https://localhost:8080/"
        },
        "id": "nFLGiB_COSUN",
        "outputId": "bc399321-7646-43e1-cae7-bd2b2470e4aa"
      },
      "execution_count": 3,
      "outputs": [
        {
          "output_type": "stream",
          "name": "stdout",
          "text": [
            "[0]\n"
          ]
        }
      ]
    },
    {
      "cell_type": "markdown",
      "source": [
        "2. First Unique Character in a String\n",
        "\n",
        "Given a string s, find the first non-repeating character in it and return its index. If it does not exist, return -1.\n",
        "\n",
        "Example 1:\n",
        "\n",
        "Input: s = \"leetcode\"\n",
        "\n",
        "Output: 0\n",
        "\n",
        "Example 2:\n",
        "\n",
        "Input: s = \"loveleetcode\"\n",
        "\n",
        "Output: 2\n",
        "\n",
        "Example 3:\n",
        "\n",
        "Input: s = \"aabb\"\n",
        "\n",
        "Output: -1\n",
        "\n",
        "Constraints:\n",
        "\n",
        "a. 1 <= s.length <= 10^5\n",
        "\n",
        "b. s consists of only lowercase English letters."
      ],
      "metadata": {
        "id": "5u4Kg4DYO0tm"
      }
    },
    {
      "cell_type": "code",
      "source": [
        "def firstUniqChar(s):\n",
        "    freq = {}\n",
        "\n",
        "    # Count the frequencies of characters\n",
        "    for char in s:\n",
        "        freq[char] = freq.get(char, 0) + 1\n",
        "\n",
        "    # Find the first character with frequency 1\n",
        "    for i, char in enumerate(s):\n",
        "        if freq[char] == 1:\n",
        "            return i\n",
        "\n",
        "    return -1"
      ],
      "metadata": {
        "id": "9ZK7MNgrO7fl"
      },
      "execution_count": 4,
      "outputs": []
    },
    {
      "cell_type": "code",
      "source": [
        "#Example 1:\n",
        "s = \"leetcode\"\n",
        "print(firstUniqChar(s))"
      ],
      "metadata": {
        "colab": {
          "base_uri": "https://localhost:8080/"
        },
        "id": "Hl6ADrQpPFVU",
        "outputId": "56765b1e-6322-4197-ca2a-6e4cb186520d"
      },
      "execution_count": 5,
      "outputs": [
        {
          "output_type": "stream",
          "name": "stdout",
          "text": [
            "0\n"
          ]
        }
      ]
    },
    {
      "cell_type": "code",
      "source": [
        "#Example 2:\n",
        "s = \"loveleetcode\"\n",
        "print(firstUniqChar(s))"
      ],
      "metadata": {
        "colab": {
          "base_uri": "https://localhost:8080/"
        },
        "id": "FpKHo5apPIao",
        "outputId": "a8b9fef1-6c8d-4fb0-ee5a-135a1ec45749"
      },
      "execution_count": 6,
      "outputs": [
        {
          "output_type": "stream",
          "name": "stdout",
          "text": [
            "2\n"
          ]
        }
      ]
    },
    {
      "cell_type": "code",
      "source": [
        "#Example 3:\n",
        "s = \"aabb\"\n",
        "print(firstUniqChar(s))"
      ],
      "metadata": {
        "colab": {
          "base_uri": "https://localhost:8080/"
        },
        "id": "2zLDe1yyPRgT",
        "outputId": "3f4cca97-e940-47be-9baf-9b6675deac85"
      },
      "execution_count": 7,
      "outputs": [
        {
          "output_type": "stream",
          "name": "stdout",
          "text": [
            "-1\n"
          ]
        }
      ]
    },
    {
      "cell_type": "code",
      "source": [],
      "metadata": {
        "id": "w6ZCjUrIPUuA"
      },
      "execution_count": null,
      "outputs": []
    }
  ]
}