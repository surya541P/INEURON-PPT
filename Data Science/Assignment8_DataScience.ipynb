{
  "cells": [
    {
      "cell_type": "markdown",
      "metadata": {
        "id": "W29LX31zuIV0"
      },
      "source": [
        "Choose a project from an internship portal and try to write a HLD and LLD based on the sample given in your portal for a respective project  ."
      ]
    },
    {
      "cell_type": "code",
      "execution_count": null,
      "metadata": {
        "id": "Z6fZyOdit7go"
      },
      "outputs": [],
      "source": [
        "## HLD\n",
        "\n",
        "link : https://github.com/mihirkudale/Campus-Placement/blob/main/High%20Level%20Documentation.docx"
      ]
    },
    {
      "cell_type": "code",
      "execution_count": null,
      "metadata": {
        "id": "Xohs2nyFwZmk"
      },
      "outputs": [],
      "source": [
        "## LLD\n",
        "\n",
        "link: https://github.com/mihirkudale/Campus-Placement/blob/main/Low%20Level%20Documentation.docx"
      ]
    }
  ],
  "metadata": {
    "colab": {
      "provenance": []
    },
    "kernelspec": {
      "display_name": "Python 3",
      "name": "python3"
    },
    "language_info": {
      "name": "python"
    }
  },
  "nbformat": 4,
  "nbformat_minor": 0
}
